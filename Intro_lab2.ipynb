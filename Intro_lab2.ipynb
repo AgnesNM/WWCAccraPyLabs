{
 "cells": [
  {
   "cell_type": "markdown",
   "metadata": {
    "id": "l31QOSRQvKuH"
   },
   "source": [
    "## Women Who Code Accra\n",
    "## Introduction to Python 2"
   ]
  },
  {
   "cell_type": "markdown",
   "metadata": {
    "id": "fwK8IwO6vKuS"
   },
   "source": [
    "### Topic to be coverered\n",
    "- [1 - Built-in function](#1)\n",
    "    - [input](#1)\n",
    "    - [int](#1)\n",
    "    - [float](#1)\n",
    "    - [str](#1)\n",
    "- [2 - Boolean Expression](#2)\n",
    "- [3 - Logical Operators](#3)\n",
    "- [4 - Conditional Execution](#4)\n",
    "    - [if](#4)\n",
    "    - [if else](#4)\n",
    "    - [if elif else](#4)\n",
    "    - [try except](#4)\n",
    "\n",
    "    "
   ]
  },
  {
   "cell_type": "markdown",
   "metadata": {
    "id": "k-E_aqeivKud"
   },
   "source": [
    "<a name='1'></a>\n",
    "### 1 - Built-in functions\n",
    "- Built-in functions\n",
    "    - input\n",
    "\n",
    "Python provides built-in functions for various operations. \n",
    "- The input() function gets input from the keyboard. When called, the program stops and waits for the user to type something. The program resumes after the user presses the Enter/Return key and what the user entered is retured to the program as a string\n",
    "- The int() function converts a value to an integer\n",
    "- The float() function converts a value to float\n",
    "- The str() fuction converts a value to string\n",
    "\n",
    "### Examples:"
   ]
  },
  {
   "cell_type": "code",
   "execution_count": null,
   "metadata": {
    "id": "pugJt4jSvKud",
    "outputId": "01eb7d05-b122-4c80-eafc-c7f800a0e933"
   },
   "outputs": [],
   "source": [
    "## simple welcome system\n",
    "\n"
   ]
  },
  {
   "cell_type": "markdown",
   "metadata": {},
   "source": [
    "### 1st App: BMI calculator app (Version 2)"
   ]
  },
  {
   "cell_type": "code",
   "execution_count": null,
   "metadata": {
    "id": "QBEpuhdzvKue",
    "outputId": "e1950542-93c9-4146-8088-716877eba85f"
   },
   "outputs": [],
   "source": [
    "#BMI App (beginner's version) Weight/Height*Height\n",
    "Weight = 69\n",
    "Heightcm = 170\n",
    "\n",
    "#convert height in centimeters to meters\n",
    "Heightm = Heightcm/100\n",
    "\n",
    "#Calculate BMI\n",
    "BMI = Weight/(Heightm**2)\n",
    "\n",
    "print('This is your BMI:')\n",
    "print(BMI)\n"
   ]
  },
  {
   "cell_type": "markdown",
   "metadata": {},
   "source": [
    "<a name = '2'></a>\n",
    "### 2 - Boolean Expression\n",
    "A boolean expression evaluates to either true or false like using comparison operators\n",
    "\n",
    "Comparison Operators:\n",
    "- !=, >, >=, <,<=, ==\n",
    "\n",
    "Examples:"
   ]
  },
  {
   "cell_type": "code",
   "execution_count": null,
   "metadata": {},
   "outputs": [],
   "source": []
  },
  {
   "cell_type": "markdown",
   "metadata": {},
   "source": [
    "<a nme='3'></a>\n",
    "### 3 - Logical Operators\n",
    " - and, or, not\n",
    "\n",
    "### Examples\n"
   ]
  },
  {
   "cell_type": "code",
   "execution_count": null,
   "metadata": {},
   "outputs": [],
   "source": []
  },
  {
   "cell_type": "markdown",
   "metadata": {},
   "source": [
    "<a name='4'></a>\n",
    "4 - Conditional execution\n",
    "Conditional statements give us the ability to check a condition and change the behaviour of the program accordingly\n",
    "- if\n",
    "- if else\n",
    "- if elif else\n",
    "### Examples"
   ]
  },
  {
   "cell_type": "code",
   "execution_count": null,
   "metadata": {},
   "outputs": [],
   "source": [
    "#if example"
   ]
  },
  {
   "cell_type": "code",
   "execution_count": null,
   "metadata": {},
   "outputs": [],
   "source": [
    "#if else example"
   ]
  },
  {
   "cell_type": "code",
   "execution_count": null,
   "metadata": {},
   "outputs": [],
   "source": [
    "#if elif else example"
   ]
  },
  {
   "cell_type": "code",
   "execution_count": null,
   "metadata": {},
   "outputs": [],
   "source": [
    "#try except example"
   ]
  },
  {
   "cell_type": "markdown",
   "metadata": {},
   "source": [
    "### 1st App: BMI calculator app (Version 3)"
   ]
  },
  {
   "cell_type": "code",
   "execution_count": 1,
   "metadata": {},
   "outputs": [
    {
     "name": "stdout",
     "output_type": "stream",
     "text": [
      "Please enter your weight in kgs: sixty\n"
     ]
    },
    {
     "ename": "ValueError",
     "evalue": "invalid literal for int() with base 10: 'sixty'",
     "output_type": "error",
     "traceback": [
      "\u001b[0;31m---------------------------------------------------------------------------\u001b[0m",
      "\u001b[0;31mValueError\u001b[0m                                Traceback (most recent call last)",
      "Cell \u001b[0;32mIn[1], line 3\u001b[0m\n\u001b[1;32m      1\u001b[0m \u001b[38;5;66;03m#BMI App (beginner's version) Weight/Height*Height\u001b[39;00m\n\u001b[0;32m----> 3\u001b[0m weight \u001b[38;5;241m=\u001b[39m \u001b[38;5;28;43mint\u001b[39;49m\u001b[43m(\u001b[49m\u001b[38;5;28;43minput\u001b[39;49m\u001b[43m(\u001b[49m\u001b[38;5;124;43m\"\u001b[39;49m\u001b[38;5;124;43mPlease enter your weight in kgs: \u001b[39;49m\u001b[38;5;124;43m\"\u001b[39;49m\u001b[43m)\u001b[49m\u001b[43m)\u001b[49m\n\u001b[1;32m      5\u001b[0m height_cm \u001b[38;5;241m=\u001b[39m \u001b[38;5;28mint\u001b[39m(\u001b[38;5;28minput\u001b[39m(\u001b[38;5;124m\"\u001b[39m\u001b[38;5;124mPlease enter your height in centimeters: \u001b[39m\u001b[38;5;124m\"\u001b[39m))\n\u001b[1;32m      7\u001b[0m \u001b[38;5;66;03m#convert height in centimeters to meters\u001b[39;00m\n",
      "\u001b[0;31mValueError\u001b[0m: invalid literal for int() with base 10: 'sixty'"
     ]
    }
   ],
   "source": [
    "#BMI App (beginner's version) Weight/Height*Height\n",
    "\n",
    "weight = int(input(\"Please enter your weight in kgs: \"))\n",
    "\n",
    "height_cm = int(input(\"Please enter your height in centimeters: \"))\n",
    "\n",
    "#convert height in centimeters to meters\n",
    "\n",
    "height_m = height_cm/100\n",
    "\n",
    "#Calculate BMI\n",
    "\n",
    "bmi = weight/(height_m**2)\n",
    "\n",
    "#If your BMI is less than 18.5, it falls within the underweight range.\n",
    "#If your BMI is 18.5 to 24.9, it falls within the Healthy Weight range.\n",
    "#If your BMI is 25.0 to 29.9, it falls within the overweight range.\n",
    "#If your BMI is 30.0 or higher, it falls within the obese range.\n",
    "\n",
    "\n",
    "try:\n",
    "    if bmi < 18.5:\n",
    "        print(\"You are within the underweight range\")\n",
    "    elif bmi == 18.5 or bmi < 25:\n",
    "        print(\"You are within the healthy range!\")\n",
    "    elif bmi == 25 or bmi < 30:\n",
    "        print(\"You are within the overweight range\")\n",
    "    elif bmi >= 30:\n",
    "        print(\"You are within the obese range!\")\n",
    "    else:\n",
    "        print(\"See your doctor urgently\")\n",
    "        \n",
    "except:\n",
    "    print(\"There's an error!\")"
   ]
  },
  {
   "cell_type": "code",
   "execution_count": null,
   "metadata": {},
   "outputs": [],
   "source": [
    "  "
   ]
  },
  {
   "cell_type": "code",
   "execution_count": null,
   "metadata": {},
   "outputs": [],
   "source": []
  }
 ],
 "metadata": {
  "colab": {
   "provenance": [],
   "toc_visible": true
  },
  "interpreter": {
   "hash": "b3ba2566441a7c06988d0923437866b63cedc61552a5af99d1f4fb67d367b25f"
  },
  "kernelspec": {
   "display_name": "Python 3 (ipykernel)",
   "language": "python",
   "name": "python3"
  },
  "language_info": {
   "codemirror_mode": {
    "name": "ipython",
    "version": 3
   },
   "file_extension": ".py",
   "mimetype": "text/x-python",
   "name": "python",
   "nbconvert_exporter": "python",
   "pygments_lexer": "ipython3",
   "version": "3.9.12"
  }
 },
 "nbformat": 4,
 "nbformat_minor": 1
}
